{
 "cells": [
  {
   "cell_type": "code",
   "execution_count": 1,
   "metadata": {},
   "outputs": [],
   "source": [
    "# Download the file gbi069_hw6.ipynb;\n",
    "# Open the file via Jupyter Notebook;\n",
    "# Run the code by clicking the \"Run\" button;\n",
    "# Everything should run correctly;"
   ]
  },
  {
   "cell_type": "code",
   "execution_count": 2,
   "metadata": {},
   "outputs": [],
   "source": [
    "import pandas as pd\n",
    "import numpy as np\n",
    "import matplotlib.pyplot as plt\n",
    "import pdb #for debugging the code. Set a breakpoint by pbd.set_trace(). https://www.geeksforgeeks.org/python-debugger-python-pdb/ "
   ]
  },
  {
   "cell_type": "code",
   "execution_count": 131,
   "metadata": {},
   "outputs": [],
   "source": [
    "def k_means_clustering(data, centroids, k):\n",
    "    centroid_current = centroids\n",
    "    centroid_last = pd.DataFrame()\n",
    "    clusters = pd.DataFrame()\n",
    "    \n",
    "    # iterate until convergence\n",
    "    while not centroid_current.equals(centroid_last):\n",
    "        clusters = []\n",
    "        cluster_count = 0 #it counts the number of clusters. Cluster IDs start from 0.\n",
    "        # calculate the distance of each point to the K centroids\n",
    "        for idx, position in centroid_current.iterrows():# the idx will not be used. We just separate the index with the actual data \"position\" in the dataset. You will use \"cluster_count\" as the column index in \"clusters\".\n",
    "            # your code is here. Save the Euclidean distances into 'clusters'\n",
    "            \n",
    "            tmp = []\n",
    "            for i, dt_pos in data.iterrows():\n",
    "                calc = pow(dt_pos - position, 2)\n",
    "                distance = pow(calc[0] + calc[1], .5)\n",
    "                tmp.append((distance, cluster_count))\n",
    "            clusters.append(tmp.copy())\n",
    "            tmp.clear()\n",
    "            # your code ends\n",
    "            cluster_count += 1\n",
    "        \n",
    "\n",
    "        list1 = []\n",
    "        cnt = 0\n",
    "        for i, dt_pos in data.iterrows():\n",
    "            list1.append(min(clusters[0][cnt], clusters[1][cnt], clusters[2][cnt]))\n",
    "            cnt += 1\n",
    "            \n",
    "        clusters = list1.copy()\n",
    "        \n",
    "        # update cluster, assign the points to clusters\n",
    "        clusterIDs = []\n",
    "        for row_idx in range(len(clusters)):\n",
    "            # your code is here. Check the distances at every row in 'clusters'. Save the assigned cluster IDs to points. The IDs start from 0\n",
    "            clusterIDs.append(clusters[row_idx][1])\n",
    "            # your code ends\n",
    "        # assign points to clusters. The information is saved in the list and assigned to the dataset.\n",
    "#         data['Cluster'] = clusterIDs\n",
    "        \n",
    "        # store previous cluster\n",
    "        centroid_last = centroid_current\n",
    "        # Update the centroid of each cluster. All information are in 'data'. You have to calculate the new centroids based on the points in the same cluster.\n",
    "        # The centroid is the center of a list of points. For example, (x1, y1), (x2, y2), ..., (xn, yn). The centroid is (x, y), where x = the mean of (x1, x2, ..., xn) and y = the mean of (y1, y2, ..., yn).\n",
    "        centroids =[]\n",
    "        points= [] # save k lists of points in the list. The points in the same list are in the same cluster. \n",
    "        # your code is here. The K centroids will be saved in 'centroids', e.g. [[1, 2], [3, 4], [5, 6]]\n",
    "        \n",
    "        for i in range(k):\n",
    "            points.append([])\n",
    "        \n",
    "        cent_1x = 0\n",
    "        cent_1y = 0\n",
    "        cnt_1 = 0\n",
    "        \n",
    "        cent_2x = 0\n",
    "        cent_2y = 0\n",
    "        cnt_2 = 0\n",
    "        \n",
    "        cent_3x = 0\n",
    "        cent_3y = 0\n",
    "        cnt_3 = 0\n",
    "        \n",
    "        for i, dt_pos in data.iterrows():\n",
    "            if clusters[i][1] == 0:\n",
    "                points[0].append([dt_pos[0], dt_pos[1]])\n",
    "                cent_1x += dt_pos[0]\n",
    "                cent_1y += dt_pos[1]\n",
    "                cnt_1 += 1\n",
    "            elif clusters[i][1] == 1:\n",
    "                points[1].append([dt_pos[0], dt_pos[1]])\n",
    "                cent_2x += dt_pos[0]\n",
    "                cent_2y += dt_pos[1]\n",
    "                cnt_2 += 1\n",
    "            elif clusters[i][1] == 2:\n",
    "                points[2].append([dt_pos[0], dt_pos[1]])\n",
    "                cent_3x += dt_pos[0]\n",
    "                cent_3y += dt_pos[1]\n",
    "                cnt_3 += 1\n",
    "            else:\n",
    "                print(\"ERROR\")\n",
    "       \n",
    "                \n",
    "        mean_1x = cent_1x / cnt_1\n",
    "        mean_1y = cent_1y / cnt_1\n",
    "        centroids.append([mean_1x, mean_1y])\n",
    "        \n",
    "        mean_2x = cent_2x / cnt_2\n",
    "        mean_2y = cent_2y / cnt_2\n",
    "        centroids.append([mean_2x, mean_2y])\n",
    "            \n",
    "        mean_3x = cent_3x / cnt_3\n",
    "        mean_3y = cent_3y / cnt_3\n",
    "        centroids.append([mean_3x, mean_3y])\n",
    "        \n",
    "        # your code ends\n",
    "        centroid_current = pd.DataFrame(data=centroids, columns = ['x', 'y'])\n",
    "         \n",
    "        print(\"No updates on clusters: \", centroid_current.equals(centroid_last))\n",
    "\n",
    "    print(\"Convergence! Final centroids:\", centroid_current)\n",
    "    # plotting\n",
    "    print('Plotting...')\n",
    "    colors= ['b', 'g', 'r', 'c', 'm', 'y', 'k']\n",
    "    \n",
    "    # scatter plot all points. All points are colored circles\n",
    "    for i in range(k):\n",
    "        p = np.array(points[i])\n",
    "        x, y = p[:,0], p[:, 1]\n",
    "        \n",
    "        plt.scatter(x, y, color = colors[i])\n",
    "        plt.scatter(centroid_current['x'], centroid_current['y'], marker='^', color = colors[i])\n",
    "    \n",
    "    # scatter plot all centroids. All points are colored triangles\n",
    "    for j in range(k):\n",
    "        plt.scatter(centroid_current.iloc[j][0], centroid_current.iloc[j][1], marker='^', color= colors[j])\n",
    "        \n",
    "    plt.show()\n"
   ]
  },
  {
   "cell_type": "code",
   "execution_count": 132,
   "metadata": {
    "scrolled": false
   },
   "outputs": [
    {
     "name": "stdout",
     "output_type": "stream",
     "text": [
      "No updates on clusters:  False\n",
      "No updates on clusters:  False\n",
      "No updates on clusters:  False\n",
      "No updates on clusters:  False\n",
      "No updates on clusters:  False\n",
      "No updates on clusters:  False\n",
      "No updates on clusters:  True\n",
      "Convergence! Final centroids:           x         y\n",
      "0  3.600000  6.300000\n",
      "1  5.347826  1.565217\n",
      "2  6.000000  8.666667\n",
      "Plotting...\n"
     ]
    },
    {
     "data": {
      "image/png": "[encoded data removed]",
      "text/plain": [
       "<Figure size 432x288 with 1 Axes>"
      ]
     },
     "metadata": {
      "needs_background": "light"
     },
     "output_type": "display_data"
    },
    {
     "name": "stdout",
     "output_type": "stream",
     "text": [
      "No updates on clusters:  False\n",
      "No updates on clusters:  False\n",
      "No updates on clusters:  False\n",
      "No updates on clusters:  True\n",
      "Convergence! Final centroids:           x         y\n",
      "0  2.583333  1.750000\n",
      "1  4.882353  7.823529\n",
      "2  7.615385  1.769231\n",
      "Plotting...\n"
     ]
    },
    {
     "data": {
      "image/png": "[encoded data removed]",
      "text/plain": [
       "<Figure size 432x288 with 1 Axes>"
      ]
     },
     "metadata": {
      "needs_background": "light"
     },
     "output_type": "display_data"
    },
    {
     "name": "stdout",
     "output_type": "stream",
     "text": [
      "No updates on clusters:  False\n",
      "No updates on clusters:  False\n",
      "No updates on clusters:  False\n",
      "No updates on clusters:  False\n",
      "No updates on clusters:  False\n",
      "No updates on clusters:  True\n",
      "Convergence! Final centroids:           x         y\n",
      "0  5.200000  1.760000\n",
      "1  3.000000  7.666667\n",
      "2  5.909091  7.909091\n",
      "Plotting...\n"
     ]
    },
    {
     "data": {
      "image/png": "[encoded data removed]",
      "text/plain": [
       "<Figure size 432x288 with 1 Axes>"
      ]
     },
     "metadata": {
      "needs_background": "light"
     },
     "output_type": "display_data"
    }
   ],
   "source": [
    "if __name__ == '__main__':\n",
    "    # Question 1 K-means clustering\n",
    "    data = pd.read_csv('k_means_clustering_data.csv')\n",
    "    seeds = []\n",
    "    # Seed selection 1: random selected 3 points as centroids (4, 4), (8, 0), (6, 3)\n",
    "    seeds.append(pd.DataFrame([[4, 4], [8, 0], [6, 3]], index=[13, 32, 23], columns = ['x', 'y']))\n",
    "    \n",
    "    # Seed selection 2: random selected 3 points as centroids (3, 6), (5, 6), (7, 4)\n",
    "    seeds.append(pd.DataFrame([[3, 6], [5, 6], [7, 4]], index=[11, 17, 28], columns = ['x', 'y']))\n",
    "    \n",
    "    # Seed selection 3: random selected 3 points as centroids (3, 4), (2, 9), (3, 8)\n",
    "    seeds.append(pd.DataFrame([[3, 4], [2, 9], [3, 8]], index=[10, 7, 12], columns = ['x', 'y']))\n",
    "       \n",
    "    for i in range(3):\n",
    "        centroids = seeds[i]\n",
    "#         print('Initial centroids:\\n', centroids)\n",
    "        k_means_clustering(data, centroids, 3)"
   ]
  },
  {
   "cell_type": "code",
   "execution_count": null,
   "metadata": {},
   "outputs": [],
   "source": [
    "    # Question 2 Hidden Markov Model\n",
    "    # your code is here\n",
    "    print('''P(w_3 = Rainy| w_1 = Rainy, u_2 = F, u_3 = T) = \n",
    "    \n",
    "    P(w_2 = Rainy, w_3 = Rainy| w_1 = Rainy, u_2 = F, u_3 = T) +\n",
    "    P(w_2 = Rainy, w_3 = Foggy| w_1 = Rainy, u_2 = F, u_3 = T) +\n",
    "    P(w_2 = Rainy, w_3 = Sunny| w_1 = Rainy, u_2 = F, u_3 = T) +\n",
    "    \n",
    "    (P(u_3 = T| w_3 = Rainy)P(u_2 = F| w_2 = Rainy)P(w_3 = Rainy| w_2 = Rainy)P(w_2 = Rainy| w_1 = Rainy)P(w_1 = Rainy))/(P(w_1 = Rainy)P(u_2 = F)P(u_3 = T)) +\n",
    "    (P(u_3 = T| w_3 = Rainy)P(u_2 = F| w_2 = Foggy)P(w_3 = Rainy| w_2 = Foggy)P(w_2 = Foggy| w_1 = Rainy)P(w_1 = Rainy))/(P(w_1 = Rainy)P(u_2 = F)P(u_3 = T)) +\n",
    "    (P(u_3 = T| w_3 = Rainy)P(u_2 = F| w_2 = Sunny)P(w_3 = Rainy| w_2 = Sunny)P(w_2 = Sunny| w_1 = Rainy)P(w_1 = Rainy))/(P(w_1 = Rainy)P(u_2 = F)P(u_3 = T)) =\n",
    "    \n",
    "    (P(u_3 = T| w_3 = Rainy)P(u_2 = F| w_2 = Rainy)P(w_3 = Rainy| w_2 = Rainy)P(w_2 = Rainy| w_1 = Rainy))/(P(u_2 = F)P(u_3 = T)) +\n",
    "    (P(u_3 = T| w_3 = Rainy)P(u_2 = F| w_2 = Foggy)P(w_3 = Rainy| w_2 = Foggy)P(w_2 = Foggy| w_1 = Rainy))/(P(u_2 = F)P(u_3 = T)) +\n",
    "    (P(u_3 = T| w_3 = Rainy)P(u_2 = F| w_2 = Sunny)P(w_3 = Rainy| w_2 = Sunny)P(w_2 = Sunny| w_1 = Rainy))/(P(u_2 = F)P(u_3 = T)) =\n",
    "    \n",
    "    (0.8)(0.2)(0.6)(0.6)/((0.4)(0.6)) + \n",
    "    (0.8)(0.7)(0.3)(0.2)/((0.4)(0.6)) +\n",
    "    (0.8)(0.9)(0.05)(0.2)/((0.4)(0.6)) = \n",
    "    \n",
    "    0.41\n",
    "    ''')\n",
    "    \n",
    "    \n",
    "    # your code ends"
   ]
  },
  {
   "cell_type": "code",
   "execution_count": null,
   "metadata": {},
   "outputs": [],
   "source": []
  }
 ],
 "metadata": {
  "kernelspec": {
   "display_name": "Python 3",
   "language": "python",
   "name": "python3"
  },
  "language_info": {
   "codemirror_mode": {
    "name": "ipython",
    "version": 3
   },
   "file_extension": ".py",
   "mimetype": "text/x-python",
   "name": "python",
   "nbconvert_exporter": "python",
   "pygments_lexer": "ipython3",
   "version": "3.7.4"
  }
 },
 "nbformat": 4,
 "nbformat_minor": 4
}
